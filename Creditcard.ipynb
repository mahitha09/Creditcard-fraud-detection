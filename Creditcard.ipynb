{
  "nbformat": 4,
  "nbformat_minor": 0,
  "metadata": {
    "colab": {
      "name": "Creditcard.ipynb",
      "provenance": [],
      "collapsed_sections": [],
      "authorship_tag": "ABX9TyM60jITkgp5JJ9QRtcvTqCF",
      "include_colab_link": true
    },
    "kernelspec": {
      "name": "python3",
      "display_name": "Python 3"
    },
    "language_info": {
      "name": "python"
    }
  },
  "cells": [
    {
      "cell_type": "markdown",
      "metadata": {
        "id": "view-in-github",
        "colab_type": "text"
      },
      "source": [
        "<a href=\"https://colab.research.google.com/github/mahitha09/Creditcard-fraud-detection/blob/main/Creditcard.ipynb\" target=\"_parent\"><img src=\"https://colab.research.google.com/assets/colab-badge.svg\" alt=\"Open In Colab\"/></a>"
      ]
    },
    {
      "cell_type": "markdown",
      "metadata": {
        "id": "Lvhu__InhxAh"
      },
      "source": [
        " Credit card fraud detection"
      ]
    },
    {
      "cell_type": "code",
      "metadata": {
        "id": "8TmXHp0NbGP0"
      },
      "source": [
        "import numpy as np\n",
        "import pandas as pd\n",
        "import matplotlib.pyplot as plt\n",
        "from sklearn.metrics import classification_report,accuracy_score\n",
        "from sklearn.ensemble import IsolationForest\n",
        "from sklearn.neighbors import LocalOutlierFactor"
      ],
      "execution_count": 60,
      "outputs": []
    },
    {
      "cell_type": "code",
      "metadata": {
        "id": "P_qgu1zBbm_P"
      },
      "source": [
        "data = pd.read_csv('/content/creditcard.csv')"
      ],
      "execution_count": 61,
      "outputs": []
    },
    {
      "cell_type": "code",
      "metadata": {
        "colab": {
          "base_uri": "https://localhost:8080/",
          "height": 224
        },
        "id": "vNe9MUHxbvF-",
        "outputId": "877218be-85bb-4f89-ecd2-04c1127c800a"
      },
      "source": [
        "#First Five rows\n",
        "data.head()"
      ],
      "execution_count": 62,
      "outputs": [
        {
          "output_type": "execute_result",
          "data": {
            "text/html": [
              "<div>\n",
              "<style scoped>\n",
              "    .dataframe tbody tr th:only-of-type {\n",
              "        vertical-align: middle;\n",
              "    }\n",
              "\n",
              "    .dataframe tbody tr th {\n",
              "        vertical-align: top;\n",
              "    }\n",
              "\n",
              "    .dataframe thead th {\n",
              "        text-align: right;\n",
              "    }\n",
              "</style>\n",
              "<table border=\"1\" class=\"dataframe\">\n",
              "  <thead>\n",
              "    <tr style=\"text-align: right;\">\n",
              "      <th></th>\n",
              "      <th>Time</th>\n",
              "      <th>V1</th>\n",
              "      <th>V2</th>\n",
              "      <th>V3</th>\n",
              "      <th>V4</th>\n",
              "      <th>V5</th>\n",
              "      <th>V6</th>\n",
              "      <th>V7</th>\n",
              "      <th>V8</th>\n",
              "      <th>V9</th>\n",
              "      <th>V10</th>\n",
              "      <th>V11</th>\n",
              "      <th>V12</th>\n",
              "      <th>V13</th>\n",
              "      <th>V14</th>\n",
              "      <th>V15</th>\n",
              "      <th>V16</th>\n",
              "      <th>V17</th>\n",
              "      <th>V18</th>\n",
              "      <th>V19</th>\n",
              "      <th>V20</th>\n",
              "      <th>V21</th>\n",
              "      <th>V22</th>\n",
              "      <th>V23</th>\n",
              "      <th>V24</th>\n",
              "      <th>V25</th>\n",
              "      <th>V26</th>\n",
              "      <th>V27</th>\n",
              "      <th>V28</th>\n",
              "      <th>Amount</th>\n",
              "      <th>Class</th>\n",
              "    </tr>\n",
              "  </thead>\n",
              "  <tbody>\n",
              "    <tr>\n",
              "      <th>0</th>\n",
              "      <td>0.0</td>\n",
              "      <td>-1.359807</td>\n",
              "      <td>-0.072781</td>\n",
              "      <td>2.536347</td>\n",
              "      <td>1.378155</td>\n",
              "      <td>-0.338321</td>\n",
              "      <td>0.462388</td>\n",
              "      <td>0.239599</td>\n",
              "      <td>0.098698</td>\n",
              "      <td>0.363787</td>\n",
              "      <td>0.090794</td>\n",
              "      <td>-0.551600</td>\n",
              "      <td>-0.617801</td>\n",
              "      <td>-0.991390</td>\n",
              "      <td>-0.311169</td>\n",
              "      <td>1.468177</td>\n",
              "      <td>-0.470401</td>\n",
              "      <td>0.207971</td>\n",
              "      <td>0.025791</td>\n",
              "      <td>0.403993</td>\n",
              "      <td>0.251412</td>\n",
              "      <td>-0.018307</td>\n",
              "      <td>0.277838</td>\n",
              "      <td>-0.110474</td>\n",
              "      <td>0.066928</td>\n",
              "      <td>0.128539</td>\n",
              "      <td>-0.189115</td>\n",
              "      <td>0.133558</td>\n",
              "      <td>-0.021053</td>\n",
              "      <td>149.62</td>\n",
              "      <td>0.0</td>\n",
              "    </tr>\n",
              "    <tr>\n",
              "      <th>1</th>\n",
              "      <td>0.0</td>\n",
              "      <td>1.191857</td>\n",
              "      <td>0.266151</td>\n",
              "      <td>0.166480</td>\n",
              "      <td>0.448154</td>\n",
              "      <td>0.060018</td>\n",
              "      <td>-0.082361</td>\n",
              "      <td>-0.078803</td>\n",
              "      <td>0.085102</td>\n",
              "      <td>-0.255425</td>\n",
              "      <td>-0.166974</td>\n",
              "      <td>1.612727</td>\n",
              "      <td>1.065235</td>\n",
              "      <td>0.489095</td>\n",
              "      <td>-0.143772</td>\n",
              "      <td>0.635558</td>\n",
              "      <td>0.463917</td>\n",
              "      <td>-0.114805</td>\n",
              "      <td>-0.183361</td>\n",
              "      <td>-0.145783</td>\n",
              "      <td>-0.069083</td>\n",
              "      <td>-0.225775</td>\n",
              "      <td>-0.638672</td>\n",
              "      <td>0.101288</td>\n",
              "      <td>-0.339846</td>\n",
              "      <td>0.167170</td>\n",
              "      <td>0.125895</td>\n",
              "      <td>-0.008983</td>\n",
              "      <td>0.014724</td>\n",
              "      <td>2.69</td>\n",
              "      <td>0.0</td>\n",
              "    </tr>\n",
              "    <tr>\n",
              "      <th>2</th>\n",
              "      <td>1.0</td>\n",
              "      <td>-1.358354</td>\n",
              "      <td>-1.340163</td>\n",
              "      <td>1.773209</td>\n",
              "      <td>0.379780</td>\n",
              "      <td>-0.503198</td>\n",
              "      <td>1.800499</td>\n",
              "      <td>0.791461</td>\n",
              "      <td>0.247676</td>\n",
              "      <td>-1.514654</td>\n",
              "      <td>0.207643</td>\n",
              "      <td>0.624501</td>\n",
              "      <td>0.066084</td>\n",
              "      <td>0.717293</td>\n",
              "      <td>-0.165946</td>\n",
              "      <td>2.345865</td>\n",
              "      <td>-2.890083</td>\n",
              "      <td>1.109969</td>\n",
              "      <td>-0.121359</td>\n",
              "      <td>-2.261857</td>\n",
              "      <td>0.524980</td>\n",
              "      <td>0.247998</td>\n",
              "      <td>0.771679</td>\n",
              "      <td>0.909412</td>\n",
              "      <td>-0.689281</td>\n",
              "      <td>-0.327642</td>\n",
              "      <td>-0.139097</td>\n",
              "      <td>-0.055353</td>\n",
              "      <td>-0.059752</td>\n",
              "      <td>378.66</td>\n",
              "      <td>0.0</td>\n",
              "    </tr>\n",
              "    <tr>\n",
              "      <th>3</th>\n",
              "      <td>1.0</td>\n",
              "      <td>-0.966272</td>\n",
              "      <td>-0.185226</td>\n",
              "      <td>1.792993</td>\n",
              "      <td>-0.863291</td>\n",
              "      <td>-0.010309</td>\n",
              "      <td>1.247203</td>\n",
              "      <td>0.237609</td>\n",
              "      <td>0.377436</td>\n",
              "      <td>-1.387024</td>\n",
              "      <td>-0.054952</td>\n",
              "      <td>-0.226487</td>\n",
              "      <td>0.178228</td>\n",
              "      <td>0.507757</td>\n",
              "      <td>-0.287924</td>\n",
              "      <td>-0.631418</td>\n",
              "      <td>-1.059647</td>\n",
              "      <td>-0.684093</td>\n",
              "      <td>1.965775</td>\n",
              "      <td>-1.232622</td>\n",
              "      <td>-0.208038</td>\n",
              "      <td>-0.108300</td>\n",
              "      <td>0.005274</td>\n",
              "      <td>-0.190321</td>\n",
              "      <td>-1.175575</td>\n",
              "      <td>0.647376</td>\n",
              "      <td>-0.221929</td>\n",
              "      <td>0.062723</td>\n",
              "      <td>0.061458</td>\n",
              "      <td>123.50</td>\n",
              "      <td>0.0</td>\n",
              "    </tr>\n",
              "    <tr>\n",
              "      <th>4</th>\n",
              "      <td>2.0</td>\n",
              "      <td>-1.158233</td>\n",
              "      <td>0.877737</td>\n",
              "      <td>1.548718</td>\n",
              "      <td>0.403034</td>\n",
              "      <td>-0.407193</td>\n",
              "      <td>0.095921</td>\n",
              "      <td>0.592941</td>\n",
              "      <td>-0.270533</td>\n",
              "      <td>0.817739</td>\n",
              "      <td>0.753074</td>\n",
              "      <td>-0.822843</td>\n",
              "      <td>0.538196</td>\n",
              "      <td>1.345852</td>\n",
              "      <td>-1.119670</td>\n",
              "      <td>0.175121</td>\n",
              "      <td>-0.451449</td>\n",
              "      <td>-0.237033</td>\n",
              "      <td>-0.038195</td>\n",
              "      <td>0.803487</td>\n",
              "      <td>0.408542</td>\n",
              "      <td>-0.009431</td>\n",
              "      <td>0.798278</td>\n",
              "      <td>-0.137458</td>\n",
              "      <td>0.141267</td>\n",
              "      <td>-0.206010</td>\n",
              "      <td>0.502292</td>\n",
              "      <td>0.219422</td>\n",
              "      <td>0.215153</td>\n",
              "      <td>69.99</td>\n",
              "      <td>0.0</td>\n",
              "    </tr>\n",
              "  </tbody>\n",
              "</table>\n",
              "</div>"
            ],
            "text/plain": [
              "   Time        V1        V2        V3  ...       V27       V28  Amount  Class\n",
              "0   0.0 -1.359807 -0.072781  2.536347  ...  0.133558 -0.021053  149.62    0.0\n",
              "1   0.0  1.191857  0.266151  0.166480  ... -0.008983  0.014724    2.69    0.0\n",
              "2   1.0 -1.358354 -1.340163  1.773209  ... -0.055353 -0.059752  378.66    0.0\n",
              "3   1.0 -0.966272 -0.185226  1.792993  ...  0.062723  0.061458  123.50    0.0\n",
              "4   2.0 -1.158233  0.877737  1.548718  ...  0.219422  0.215153   69.99    0.0\n",
              "\n",
              "[5 rows x 31 columns]"
            ]
          },
          "metadata": {
            "tags": []
          },
          "execution_count": 62
        }
      ]
    },
    {
      "cell_type": "code",
      "metadata": {
        "colab": {
          "base_uri": "https://localhost:8080/",
          "height": 224
        },
        "id": "TF4nlCWYb4A-",
        "outputId": "52045962-cc5b-4391-e5ab-64f57e7997d2"
      },
      "source": [
        "#Last Five rows\n",
        "data.tail()"
      ],
      "execution_count": 63,
      "outputs": [
        {
          "output_type": "execute_result",
          "data": {
            "text/html": [
              "<div>\n",
              "<style scoped>\n",
              "    .dataframe tbody tr th:only-of-type {\n",
              "        vertical-align: middle;\n",
              "    }\n",
              "\n",
              "    .dataframe tbody tr th {\n",
              "        vertical-align: top;\n",
              "    }\n",
              "\n",
              "    .dataframe thead th {\n",
              "        text-align: right;\n",
              "    }\n",
              "</style>\n",
              "<table border=\"1\" class=\"dataframe\">\n",
              "  <thead>\n",
              "    <tr style=\"text-align: right;\">\n",
              "      <th></th>\n",
              "      <th>Time</th>\n",
              "      <th>V1</th>\n",
              "      <th>V2</th>\n",
              "      <th>V3</th>\n",
              "      <th>V4</th>\n",
              "      <th>V5</th>\n",
              "      <th>V6</th>\n",
              "      <th>V7</th>\n",
              "      <th>V8</th>\n",
              "      <th>V9</th>\n",
              "      <th>V10</th>\n",
              "      <th>V11</th>\n",
              "      <th>V12</th>\n",
              "      <th>V13</th>\n",
              "      <th>V14</th>\n",
              "      <th>V15</th>\n",
              "      <th>V16</th>\n",
              "      <th>V17</th>\n",
              "      <th>V18</th>\n",
              "      <th>V19</th>\n",
              "      <th>V20</th>\n",
              "      <th>V21</th>\n",
              "      <th>V22</th>\n",
              "      <th>V23</th>\n",
              "      <th>V24</th>\n",
              "      <th>V25</th>\n",
              "      <th>V26</th>\n",
              "      <th>V27</th>\n",
              "      <th>V28</th>\n",
              "      <th>Amount</th>\n",
              "      <th>Class</th>\n",
              "    </tr>\n",
              "  </thead>\n",
              "  <tbody>\n",
              "    <tr>\n",
              "      <th>188256</th>\n",
              "      <td>127893.0</td>\n",
              "      <td>-8.852104</td>\n",
              "      <td>-11.509369</td>\n",
              "      <td>0.449332</td>\n",
              "      <td>2.068166</td>\n",
              "      <td>5.423514</td>\n",
              "      <td>-4.506990</td>\n",
              "      <td>-3.722182</td>\n",
              "      <td>-0.343961</td>\n",
              "      <td>-1.255238</td>\n",
              "      <td>2.642756</td>\n",
              "      <td>-0.280297</td>\n",
              "      <td>-0.790324</td>\n",
              "      <td>1.510355</td>\n",
              "      <td>-0.902942</td>\n",
              "      <td>2.020117</td>\n",
              "      <td>-1.131299</td>\n",
              "      <td>1.233969</td>\n",
              "      <td>0.313896</td>\n",
              "      <td>3.486534</td>\n",
              "      <td>-3.397654</td>\n",
              "      <td>-1.390078</td>\n",
              "      <td>1.059268</td>\n",
              "      <td>5.788621</td>\n",
              "      <td>1.226642</td>\n",
              "      <td>1.186211</td>\n",
              "      <td>0.584517</td>\n",
              "      <td>1.783203</td>\n",
              "      <td>-0.400900</td>\n",
              "      <td>37.5</td>\n",
              "      <td>0.0</td>\n",
              "    </tr>\n",
              "    <tr>\n",
              "      <th>188257</th>\n",
              "      <td>127894.0</td>\n",
              "      <td>1.609287</td>\n",
              "      <td>-0.581437</td>\n",
              "      <td>0.008484</td>\n",
              "      <td>1.655629</td>\n",
              "      <td>-1.162795</td>\n",
              "      <td>-0.938786</td>\n",
              "      <td>-0.287847</td>\n",
              "      <td>-0.124818</td>\n",
              "      <td>0.855258</td>\n",
              "      <td>0.154009</td>\n",
              "      <td>-0.117613</td>\n",
              "      <td>0.466487</td>\n",
              "      <td>-0.200015</td>\n",
              "      <td>0.130179</td>\n",
              "      <td>0.796716</td>\n",
              "      <td>0.170865</td>\n",
              "      <td>-0.396817</td>\n",
              "      <td>0.019199</td>\n",
              "      <td>-1.212062</td>\n",
              "      <td>-0.004416</td>\n",
              "      <td>0.373621</td>\n",
              "      <td>0.902301</td>\n",
              "      <td>0.129504</td>\n",
              "      <td>0.858324</td>\n",
              "      <td>-0.281039</td>\n",
              "      <td>-0.628079</td>\n",
              "      <td>0.032977</td>\n",
              "      <td>0.003303</td>\n",
              "      <td>150.0</td>\n",
              "      <td>0.0</td>\n",
              "    </tr>\n",
              "    <tr>\n",
              "      <th>188258</th>\n",
              "      <td>127894.0</td>\n",
              "      <td>2.097886</td>\n",
              "      <td>-0.685229</td>\n",
              "      <td>-1.281921</td>\n",
              "      <td>-0.318993</td>\n",
              "      <td>-0.235987</td>\n",
              "      <td>-0.167462</td>\n",
              "      <td>-0.382762</td>\n",
              "      <td>-0.114099</td>\n",
              "      <td>-0.412410</td>\n",
              "      <td>0.799106</td>\n",
              "      <td>0.551305</td>\n",
              "      <td>1.314165</td>\n",
              "      <td>0.854456</td>\n",
              "      <td>0.001662</td>\n",
              "      <td>-1.387464</td>\n",
              "      <td>-2.153022</td>\n",
              "      <td>-0.049323</td>\n",
              "      <td>1.331207</td>\n",
              "      <td>-0.385525</td>\n",
              "      <td>-0.575829</td>\n",
              "      <td>-0.136930</td>\n",
              "      <td>0.381340</td>\n",
              "      <td>0.056371</td>\n",
              "      <td>0.740105</td>\n",
              "      <td>0.272978</td>\n",
              "      <td>-0.107836</td>\n",
              "      <td>0.016936</td>\n",
              "      <td>-0.057214</td>\n",
              "      <td>11.5</td>\n",
              "      <td>0.0</td>\n",
              "    </tr>\n",
              "    <tr>\n",
              "      <th>188259</th>\n",
              "      <td>127894.0</td>\n",
              "      <td>1.851731</td>\n",
              "      <td>-0.368532</td>\n",
              "      <td>0.157316</td>\n",
              "      <td>1.422273</td>\n",
              "      <td>-0.917616</td>\n",
              "      <td>-0.315417</td>\n",
              "      <td>-0.696940</td>\n",
              "      <td>0.053708</td>\n",
              "      <td>1.206733</td>\n",
              "      <td>0.136071</td>\n",
              "      <td>-1.020010</td>\n",
              "      <td>0.266223</td>\n",
              "      <td>-0.052756</td>\n",
              "      <td>-0.172452</td>\n",
              "      <td>0.665256</td>\n",
              "      <td>0.576153</td>\n",
              "      <td>-0.753759</td>\n",
              "      <td>0.288320</td>\n",
              "      <td>-0.683396</td>\n",
              "      <td>-0.182517</td>\n",
              "      <td>0.073982</td>\n",
              "      <td>0.288365</td>\n",
              "      <td>0.247731</td>\n",
              "      <td>-0.001908</td>\n",
              "      <td>-0.361825</td>\n",
              "      <td>-0.760861</td>\n",
              "      <td>0.069835</td>\n",
              "      <td>-0.013513</td>\n",
              "      <td>45.0</td>\n",
              "      <td>0.0</td>\n",
              "    </tr>\n",
              "    <tr>\n",
              "      <th>188260</th>\n",
              "      <td>127894.0</td>\n",
              "      <td>1.759307</td>\n",
              "      <td>-0.459599</td>\n",
              "      <td>-0.379355</td>\n",
              "      <td>1.665059</td>\n",
              "      <td>-0.555768</td>\n",
              "      <td>-0.275380</td>\n",
              "      <td>-0.174480</td>\n",
              "      <td>0.001335</td>\n",
              "      <td>1.259834</td>\n",
              "      <td>-0.039248</td>\n",
              "      <td>-1.359496</td>\n",
              "      <td>0.400000</td>\n",
              "      <td>NaN</td>\n",
              "      <td>NaN</td>\n",
              "      <td>NaN</td>\n",
              "      <td>NaN</td>\n",
              "      <td>NaN</td>\n",
              "      <td>NaN</td>\n",
              "      <td>NaN</td>\n",
              "      <td>NaN</td>\n",
              "      <td>NaN</td>\n",
              "      <td>NaN</td>\n",
              "      <td>NaN</td>\n",
              "      <td>NaN</td>\n",
              "      <td>NaN</td>\n",
              "      <td>NaN</td>\n",
              "      <td>NaN</td>\n",
              "      <td>NaN</td>\n",
              "      <td>NaN</td>\n",
              "      <td>NaN</td>\n",
              "    </tr>\n",
              "  </tbody>\n",
              "</table>\n",
              "</div>"
            ],
            "text/plain": [
              "            Time        V1         V2  ...       V28  Amount  Class\n",
              "188256  127893.0 -8.852104 -11.509369  ... -0.400900    37.5    0.0\n",
              "188257  127894.0  1.609287  -0.581437  ...  0.003303   150.0    0.0\n",
              "188258  127894.0  2.097886  -0.685229  ... -0.057214    11.5    0.0\n",
              "188259  127894.0  1.851731  -0.368532  ... -0.013513    45.0    0.0\n",
              "188260  127894.0  1.759307  -0.459599  ...       NaN     NaN    NaN\n",
              "\n",
              "[5 rows x 31 columns]"
            ]
          },
          "metadata": {
            "tags": []
          },
          "execution_count": 63
        }
      ]
    },
    {
      "cell_type": "code",
      "metadata": {
        "colab": {
          "base_uri": "https://localhost:8080/"
        },
        "id": "rkTIKCY_b9W2",
        "outputId": "e8a5ab63-6778-433b-f5f7-74553ae07024"
      },
      "source": [
        "data.info()\n"
      ],
      "execution_count": 65,
      "outputs": [
        {
          "output_type": "stream",
          "text": [
            "<class 'pandas.core.frame.DataFrame'>\n",
            "RangeIndex: 188261 entries, 0 to 188260\n",
            "Data columns (total 31 columns):\n",
            " #   Column  Non-Null Count   Dtype  \n",
            "---  ------  --------------   -----  \n",
            " 0   Time    188261 non-null  float64\n",
            " 1   V1      188261 non-null  float64\n",
            " 2   V2      188261 non-null  float64\n",
            " 3   V3      188261 non-null  float64\n",
            " 4   V4      188261 non-null  float64\n",
            " 5   V5      188261 non-null  float64\n",
            " 6   V6      188261 non-null  float64\n",
            " 7   V7      188261 non-null  float64\n",
            " 8   V8      188261 non-null  float64\n",
            " 9   V9      188261 non-null  float64\n",
            " 10  V10     188261 non-null  float64\n",
            " 11  V11     188261 non-null  float64\n",
            " 12  V12     188261 non-null  float64\n",
            " 13  V13     188260 non-null  float64\n",
            " 14  V14     188260 non-null  float64\n",
            " 15  V15     188260 non-null  float64\n",
            " 16  V16     188260 non-null  float64\n",
            " 17  V17     188260 non-null  float64\n",
            " 18  V18     188260 non-null  float64\n",
            " 19  V19     188260 non-null  float64\n",
            " 20  V20     188260 non-null  float64\n",
            " 21  V21     188260 non-null  float64\n",
            " 22  V22     188260 non-null  float64\n",
            " 23  V23     188260 non-null  float64\n",
            " 24  V24     188260 non-null  float64\n",
            " 25  V25     188260 non-null  float64\n",
            " 26  V26     188260 non-null  float64\n",
            " 27  V27     188260 non-null  float64\n",
            " 28  V28     188260 non-null  float64\n",
            " 29  Amount  188260 non-null  float64\n",
            " 30  Class   188260 non-null  float64\n",
            "dtypes: float64(31)\n",
            "memory usage: 44.5 MB\n"
          ],
          "name": "stdout"
        }
      ]
    },
    {
      "cell_type": "markdown",
      "metadata": {
        "id": "acR5ueqBcIhx"
      },
      "source": [
        "Data Analysis"
      ]
    },
    {
      "cell_type": "code",
      "metadata": {
        "id": "i8cjF8IvcQcA"
      },
      "source": [
        "# Get the Fraud and the normal dataset \n",
        "\n",
        "fraud_data = data[data['Class']==1]\n",
        "\n",
        "normal_data = data[data['Class']==0]"
      ],
      "execution_count": 66,
      "outputs": []
    },
    {
      "cell_type": "code",
      "metadata": {
        "colab": {
          "base_uri": "https://localhost:8080/",
          "height": 308
        },
        "id": "PgaPooYKkNie",
        "outputId": "9f11470a-0d3d-4a31-ba0c-c25d87d68fc3"
      },
      "source": [
        "#Amount per transaction by class\n",
        "\n",
        "f, (ax1, ax2) = plt.subplots(2, 1, sharex=True)\n",
        "f.suptitle('Amount per transaction by class')\n",
        "bins = 50\n",
        "ax1.hist(fraud_data.Amount, bins = bins)\n",
        "ax1.set_title('Fraud')\n",
        "ax2.hist(normal_data.Amount, bins = bins)\n",
        "ax2.set_title('Normal')\n",
        "plt.xlabel('Amount ($)')\n",
        "plt.ylabel('Number of Transactions')\n",
        "plt.xlim((0, 20000))\n",
        "plt.yscale('log')\n",
        "plt.show();"
      ],
      "execution_count": 67,
      "outputs": [
        {
          "output_type": "display_data",
          "data": {
            "image/png": "[encoded data removed]",
            "text/plain": [
              "<Figure size 432x288 with 2 Axes>"
            ]
          },
          "metadata": {
            "tags": [],
            "needs_background": "light"
          }
        }
      ]
    },
    {
      "cell_type": "code",
      "metadata": {
        "colab": {
          "base_uri": "https://localhost:8080/",
          "height": 308
        },
        "id": "eZD3iSusjJtu",
        "outputId": "a8cdbc0e-9335-4ebf-878d-fa0e1f10ce01"
      },
      "source": [
        "#Time of transaction vs Amount by class\n",
        "\n",
        "f, (ax1, ax2) = plt.subplots(2, 1, sharex=True)\n",
        "f.suptitle('Time of transaction vs Amount by class')\n",
        "ax1.scatter(fraud_data.Time, fraud_data.Amount)\n",
        "ax1.set_title('Fraud')\n",
        "ax2.scatter(normal_data.Time, normal_data.Amount)\n",
        "ax2.set_title('Normal')\n",
        "plt.xlabel('Time (in Seconds)')\n",
        "plt.ylabel('Amount')\n",
        "plt.show()"
      ],
      "execution_count": 68,
      "outputs": [
        {
          "output_type": "display_data",
          "data": {
            "image/png": "[encoded data removed]",
            "text/plain": [
              "<Figure size 432x288 with 2 Axes>"
            ]
          },
          "metadata": {
            "tags": [],
            "needs_background": "light"
          }
        }
      ]
    },
    {
      "cell_type": "code",
      "metadata": {
        "colab": {
          "base_uri": "https://localhost:8080/"
        },
        "id": "z-6HeWVYceIf",
        "outputId": "160b7fc6-589c-4017-891f-b32108f314a1"
      },
      "source": [
        "\n",
        "print(fraud_data.shape,normal_data.shape)\n"
      ],
      "execution_count": 70,
      "outputs": [
        {
          "output_type": "stream",
          "text": [
            "(368, 31) (187892, 31)\n"
          ],
          "name": "stdout"
        }
      ]
    },
    {
      "cell_type": "code",
      "metadata": {
        "colab": {
          "base_uri": "https://localhost:8080/"
        },
        "id": "wGp9wP-Hcim5",
        "outputId": "1fd635df-2f20-4641-99bd-bbdc24d8e15f"
      },
      "source": [
        "fraud_data.Amount.describe()"
      ],
      "execution_count": 71,
      "outputs": [
        {
          "output_type": "execute_result",
          "data": {
            "text/plain": [
              "count     368.000000\n",
              "mean      115.659891\n",
              "std       248.444604\n",
              "min         0.000000\n",
              "25%         1.000000\n",
              "50%        11.395000\n",
              "75%       104.007500\n",
              "max      2125.870000\n",
              "Name: Amount, dtype: float64"
            ]
          },
          "metadata": {
            "tags": []
          },
          "execution_count": 71
        }
      ]
    },
    {
      "cell_type": "code",
      "metadata": {
        "colab": {
          "base_uri": "https://localhost:8080/"
        },
        "id": "kitCBH80cs_O",
        "outputId": "8e23b1d3-9e73-472d-d992-1e265bef19c5"
      },
      "source": [
        "normal_data.Amount.describe()\n"
      ],
      "execution_count": 72,
      "outputs": [
        {
          "output_type": "execute_result",
          "data": {
            "text/plain": [
              "count    187892.000000\n",
              "mean         88.949661\n",
              "std         247.532742\n",
              "min           0.000000\n",
              "25%           5.960000\n",
              "50%          22.750000\n",
              "75%          79.000000\n",
              "max       19656.530000\n",
              "Name: Amount, dtype: float64"
            ]
          },
          "metadata": {
            "tags": []
          },
          "execution_count": 72
        }
      ]
    },
    {
      "cell_type": "markdown",
      "metadata": {
        "id": "GuAyZFYtiGJS"
      },
      "source": [
        "Train and test data"
      ]
    },
    {
      "cell_type": "code",
      "metadata": {
        "colab": {
          "base_uri": "https://localhost:8080/"
        },
        "id": "1axyaOQHduaM",
        "outputId": "d85b6377-80ec-4b3c-bc76-dc2175b71366"
      },
      "source": [
        "# Take some sample of the data\n",
        "data_sample= data.sample(frac = 0.1,random_state=1)\n",
        "data_sample.shape"
      ],
      "execution_count": 73,
      "outputs": [
        {
          "output_type": "execute_result",
          "data": {
            "text/plain": [
              "(18826, 31)"
            ]
          },
          "metadata": {
            "tags": []
          },
          "execution_count": 73
        }
      ]
    },
    {
      "cell_type": "code",
      "metadata": {
        "colab": {
          "base_uri": "https://localhost:8080/"
        },
        "id": "TLhNVrLBd4dY",
        "outputId": "0259f8ba-b450-4e99-ac59-26ea84f2ee79"
      },
      "source": [
        "data.shape"
      ],
      "execution_count": 74,
      "outputs": [
        {
          "output_type": "execute_result",
          "data": {
            "text/plain": [
              "(188261, 31)"
            ]
          },
          "metadata": {
            "tags": []
          },
          "execution_count": 74
        }
      ]
    },
    {
      "cell_type": "code",
      "metadata": {
        "colab": {
          "base_uri": "https://localhost:8080/"
        },
        "id": "5c_QLdCJd9XQ",
        "outputId": "14c864c9-c361-4a1c-a604-8c3f05561946"
      },
      "source": [
        "#Determine the number of fraud and valid transactions in the dataset\n",
        "\n",
        "Fraud = data_sample[data_sample['Class']==1]\n",
        "Valid = data_sample[data_sample['Class']==0]\n",
        "\n",
        "outlier_fraction = len(Fraud)/float(len(Valid))\n",
        "print(outlier_fraction)\n",
        "\n",
        "print(\"Fraud Cases : {}\".format(len(Fraud)))\n",
        "print(\"Valid Cases : {}\".format(len(Valid)))"
      ],
      "execution_count": 77,
      "outputs": [
        {
          "output_type": "stream",
          "text": [
            "0.0017026710652335852\n",
            "Fraud Cases : 32\n",
            "Valid Cases : 18794\n"
          ],
          "name": "stdout"
        }
      ]
    },
    {
      "cell_type": "markdown",
      "metadata": {
        "id": "vkd4bTe0hpGb"
      },
      "source": [
        "ML MODEL"
      ]
    },
    {
      "cell_type": "code",
      "metadata": {
        "colab": {
          "base_uri": "https://localhost:8080/"
        },
        "id": "7YiTOOtkeGBY",
        "outputId": "9698dea8-0b2a-466b-f7f7-0260fccc34ce"
      },
      "source": [
        "#Create independent and Dependent Features\n",
        "columns = data_sample.columns.tolist()\n",
        "# Filter the columns to remove data we do not want \n",
        "columns = [c for c in columns if c not in [\"Class\"]]\n",
        "# Store the variable we are predicting \n",
        "target = \"Class\"\n",
        "# Define a random state \n",
        "state = np.random.RandomState(42)\n",
        "X = data_sample[columns]\n",
        "Y = data_sample[target]\n",
        "X_outliers = state.uniform(low=0, high=1, size=(X.shape[0], X.shape[1]))\n",
        "# Print the shapes of X & Y\n",
        "print(X.shape)\n",
        "print(Y.shape)"
      ],
      "execution_count": 79,
      "outputs": [
        {
          "output_type": "stream",
          "text": [
            "(18826, 30)\n",
            "(18826,)\n"
          ],
          "name": "stdout"
        }
      ]
    },
    {
      "cell_type": "code",
      "metadata": {
        "id": "cjWOJp-neqMM"
      },
      "source": [
        "#Define the outlier detection methods\n",
        "\n",
        "classifiers = {\n",
        "    \"Isolation Forest\":IsolationForest(n_estimators=100, max_samples=len(X), \n",
        "                                       contamination=outlier_fraction,random_state=state, verbose=0),\n",
        "    \"Local Outlier Factor\":LocalOutlierFactor(n_neighbors=20, algorithm='auto', \n",
        "                                              leaf_size=30, metric='minkowski',\n",
        "                                              p=2, metric_params=None, contamination=outlier_fraction)\n",
        "}"
      ],
      "execution_count": 80,
      "outputs": []
    },
    {
      "cell_type": "code",
      "metadata": {
        "colab": {
          "base_uri": "https://localhost:8080/"
        },
        "id": "E6hDXwypezYZ",
        "outputId": "f886620b-95d1-4066-d22e-41905a41ff8b"
      },
      "source": [
        "n_outliers = len(Fraud)\n",
        "for i, (clf_name,clf) in enumerate(classifiers.items()):\n",
        "    #Fit the data and tag outliers\n",
        "    if clf_name == \"Local Outlier Factor\":\n",
        "        y_pred = clf.fit_predict(X)\n",
        "        scores_prediction = clf.negative_outlier_factor_\n",
        "    else:    \n",
        "        clf.fit(X)\n",
        "        scores_prediction = clf.decision_function(X)\n",
        "        y_pred = clf.predict(X)\n",
        "    #Reshape the prediction values to 0 for Valid transactions , 1 for Fraud transactions\n",
        "    y_pred[y_pred == 1] = 0\n",
        "    y_pred[y_pred == -1] = 1\n",
        "    n_errors = (y_pred != Y).sum()\n",
        "    # Run Classification Metrics\n",
        "    print(\"{}: {}\".format(clf_name,n_errors))\n",
        "    print(\"Accuracy Score :\")\n",
        "    print(accuracy_score(Y,y_pred))\n",
        "    print(\"Classification Report :\")\n",
        "    print(classification_report(Y,y_pred))"
      ],
      "execution_count": 81,
      "outputs": [
        {
          "output_type": "stream",
          "text": [
            "Isolation Forest: 45\n",
            "Accuracy Score :\n",
            "0.9976096887283544\n",
            "Classification Report :\n",
            "              precision    recall  f1-score   support\n",
            "\n",
            "         0.0       1.00      1.00      1.00     18794\n",
            "         1.0       0.30      0.31      0.31        32\n",
            "\n",
            "    accuracy                           1.00     18826\n",
            "   macro avg       0.65      0.66      0.65     18826\n",
            "weighted avg       1.00      1.00      1.00     18826\n",
            "\n",
            "Local Outlier Factor: 63\n",
            "Accuracy Score :\n",
            "0.9966535642196962\n",
            "Classification Report :\n",
            "              precision    recall  f1-score   support\n",
            "\n",
            "         0.0       1.00      1.00      1.00     18794\n",
            "         1.0       0.03      0.03      0.03        32\n",
            "\n",
            "    accuracy                           1.00     18826\n",
            "   macro avg       0.51      0.51      0.51     18826\n",
            "weighted avg       1.00      1.00      1.00     18826\n",
            "\n"
          ],
          "name": "stdout"
        }
      ]
    },
    {
      "cell_type": "code",
      "metadata": {
        "id": "haEOMx5FmBdP"
      },
      "source": [
        ""
      ],
      "execution_count": null,
      "outputs": []
    }
  ]
}