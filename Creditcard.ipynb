{
  "nbformat": 4,
  "nbformat_minor": 0,
  "metadata": {
    "colab": {
      "name": "Creditcard.ipynb",
      "provenance": [],
      "authorship_tag": "ABX9TyP9/S/d7rWFdGR1njS8NwGy",
      "include_colab_link": true
    },
    "kernelspec": {
      "name": "python3",
      "display_name": "Python 3"
    },
    "language_info": {
      "name": "python"
    }
  },
  "cells": [
    {
      "cell_type": "markdown",
      "metadata": {
        "id": "view-in-github",
        "colab_type": "text"
      },
      "source": [
        "<a href=\"https://colab.research.google.com/github/mahitha09/Creditcard-fraud-detection/blob/main/Creditcard.ipynb\" target=\"_parent\"><img src=\"https://colab.research.google.com/assets/colab-badge.svg\" alt=\"Open In Colab\"/></a>"
      ]
    },
    {
      "cell_type": "markdown",
      "metadata": {
        "id": "Lvhu__InhxAh"
      },
      "source": [
        " Credit card fraud detection"
      ]
    },
    {
      "cell_type": "code",
      "metadata": {
        "id": "8TmXHp0NbGP0"
      },
      "source": [
        "import numpy as np\n",
        "import pandas as pd\n",
        "import matplotlib.pyplot as plt\n",
        "from sklearn.metrics import classification_report,accuracy_score\n",
        "from sklearn.ensemble import IsolationForest\n",
        "from sklearn.neighbors import LocalOutlierFactor"
      ],
      "execution_count": 24,
      "outputs": []
    },
    {
      "cell_type": "code",
      "metadata": {
        "id": "P_qgu1zBbm_P"
      },
      "source": [
        "data = pd.read_csv('/content/creditcard.csv')"
      ],
      "execution_count": 25,
      "outputs": []
    },
    {
      "cell_type": "code",
      "metadata": {
        "colab": {
          "base_uri": "https://localhost:8080/",
          "height": 224
        },
        "id": "vNe9MUHxbvF-",
        "outputId": "3ba8beda-36ea-45c1-cbe2-9798b0ad96c6"
      },
      "source": [
        "#First Five rows\n",
        "data.head()"
      ],
      "execution_count": 26,
      "outputs": [
        {
          "output_type": "execute_result",
          "data": {
            "text/html": [
              "<div>\n",
              "<style scoped>\n",
              "    .dataframe tbody tr th:only-of-type {\n",
              "        vertical-align: middle;\n",
              "    }\n",
              "\n",
              "    .dataframe tbody tr th {\n",
              "        vertical-align: top;\n",
              "    }\n",
              "\n",
              "    .dataframe thead th {\n",
              "        text-align: right;\n",
              "    }\n",
              "</style>\n",
              "<table border=\"1\" class=\"dataframe\">\n",
              "  <thead>\n",
              "    <tr style=\"text-align: right;\">\n",
              "      <th></th>\n",
              "      <th>Time</th>\n",
              "      <th>V1</th>\n",
              "      <th>V2</th>\n",
              "      <th>V3</th>\n",
              "      <th>V4</th>\n",
              "      <th>V5</th>\n",
              "      <th>V6</th>\n",
              "      <th>V7</th>\n",
              "      <th>V8</th>\n",
              "      <th>V9</th>\n",
              "      <th>V10</th>\n",
              "      <th>V11</th>\n",
              "      <th>V12</th>\n",
              "      <th>V13</th>\n",
              "      <th>V14</th>\n",
              "      <th>V15</th>\n",
              "      <th>V16</th>\n",
              "      <th>V17</th>\n",
              "      <th>V18</th>\n",
              "      <th>V19</th>\n",
              "      <th>V20</th>\n",
              "      <th>V21</th>\n",
              "      <th>V22</th>\n",
              "      <th>V23</th>\n",
              "      <th>V24</th>\n",
              "      <th>V25</th>\n",
              "      <th>V26</th>\n",
              "      <th>V27</th>\n",
              "      <th>V28</th>\n",
              "      <th>Amount</th>\n",
              "      <th>Class</th>\n",
              "    </tr>\n",
              "  </thead>\n",
              "  <tbody>\n",
              "    <tr>\n",
              "      <th>0</th>\n",
              "      <td>0.0</td>\n",
              "      <td>-1.359807</td>\n",
              "      <td>-0.072781</td>\n",
              "      <td>2.536347</td>\n",
              "      <td>1.378155</td>\n",
              "      <td>-0.338321</td>\n",
              "      <td>0.462388</td>\n",
              "      <td>0.239599</td>\n",
              "      <td>0.098698</td>\n",
              "      <td>0.363787</td>\n",
              "      <td>0.090794</td>\n",
              "      <td>-0.551600</td>\n",
              "      <td>-0.617801</td>\n",
              "      <td>-0.991390</td>\n",
              "      <td>-0.311169</td>\n",
              "      <td>1.468177</td>\n",
              "      <td>-0.470401</td>\n",
              "      <td>0.207971</td>\n",
              "      <td>0.025791</td>\n",
              "      <td>0.403993</td>\n",
              "      <td>0.251412</td>\n",
              "      <td>-0.018307</td>\n",
              "      <td>0.277838</td>\n",
              "      <td>-0.110474</td>\n",
              "      <td>0.066928</td>\n",
              "      <td>0.128539</td>\n",
              "      <td>-0.189115</td>\n",
              "      <td>0.133558</td>\n",
              "      <td>-0.021053</td>\n",
              "      <td>149.62</td>\n",
              "      <td>0.0</td>\n",
              "    </tr>\n",
              "    <tr>\n",
              "      <th>1</th>\n",
              "      <td>0.0</td>\n",
              "      <td>1.191857</td>\n",
              "      <td>0.266151</td>\n",
              "      <td>0.166480</td>\n",
              "      <td>0.448154</td>\n",
              "      <td>0.060018</td>\n",
              "      <td>-0.082361</td>\n",
              "      <td>-0.078803</td>\n",
              "      <td>0.085102</td>\n",
              "      <td>-0.255425</td>\n",
              "      <td>-0.166974</td>\n",
              "      <td>1.612727</td>\n",
              "      <td>1.065235</td>\n",
              "      <td>0.489095</td>\n",
              "      <td>-0.143772</td>\n",
              "      <td>0.635558</td>\n",
              "      <td>0.463917</td>\n",
              "      <td>-0.114805</td>\n",
              "      <td>-0.183361</td>\n",
              "      <td>-0.145783</td>\n",
              "      <td>-0.069083</td>\n",
              "      <td>-0.225775</td>\n",
              "      <td>-0.638672</td>\n",
              "      <td>0.101288</td>\n",
              "      <td>-0.339846</td>\n",
              "      <td>0.167170</td>\n",
              "      <td>0.125895</td>\n",
              "      <td>-0.008983</td>\n",
              "      <td>0.014724</td>\n",
              "      <td>2.69</td>\n",
              "      <td>0.0</td>\n",
              "    </tr>\n",
              "    <tr>\n",
              "      <th>2</th>\n",
              "      <td>1.0</td>\n",
              "      <td>-1.358354</td>\n",
              "      <td>-1.340163</td>\n",
              "      <td>1.773209</td>\n",
              "      <td>0.379780</td>\n",
              "      <td>-0.503198</td>\n",
              "      <td>1.800499</td>\n",
              "      <td>0.791461</td>\n",
              "      <td>0.247676</td>\n",
              "      <td>-1.514654</td>\n",
              "      <td>0.207643</td>\n",
              "      <td>0.624501</td>\n",
              "      <td>0.066084</td>\n",
              "      <td>0.717293</td>\n",
              "      <td>-0.165946</td>\n",
              "      <td>2.345865</td>\n",
              "      <td>-2.890083</td>\n",
              "      <td>1.109969</td>\n",
              "      <td>-0.121359</td>\n",
              "      <td>-2.261857</td>\n",
              "      <td>0.524980</td>\n",
              "      <td>0.247998</td>\n",
              "      <td>0.771679</td>\n",
              "      <td>0.909412</td>\n",
              "      <td>-0.689281</td>\n",
              "      <td>-0.327642</td>\n",
              "      <td>-0.139097</td>\n",
              "      <td>-0.055353</td>\n",
              "      <td>-0.059752</td>\n",
              "      <td>378.66</td>\n",
              "      <td>0.0</td>\n",
              "    </tr>\n",
              "    <tr>\n",
              "      <th>3</th>\n",
              "      <td>1.0</td>\n",
              "      <td>-0.966272</td>\n",
              "      <td>-0.185226</td>\n",
              "      <td>1.792993</td>\n",
              "      <td>-0.863291</td>\n",
              "      <td>-0.010309</td>\n",
              "      <td>1.247203</td>\n",
              "      <td>0.237609</td>\n",
              "      <td>0.377436</td>\n",
              "      <td>-1.387024</td>\n",
              "      <td>-0.054952</td>\n",
              "      <td>-0.226487</td>\n",
              "      <td>0.178228</td>\n",
              "      <td>0.507757</td>\n",
              "      <td>-0.287924</td>\n",
              "      <td>-0.631418</td>\n",
              "      <td>-1.059647</td>\n",
              "      <td>-0.684093</td>\n",
              "      <td>1.965775</td>\n",
              "      <td>-1.232622</td>\n",
              "      <td>-0.208038</td>\n",
              "      <td>-0.108300</td>\n",
              "      <td>0.005274</td>\n",
              "      <td>-0.190321</td>\n",
              "      <td>-1.175575</td>\n",
              "      <td>0.647376</td>\n",
              "      <td>-0.221929</td>\n",
              "      <td>0.062723</td>\n",
              "      <td>0.061458</td>\n",
              "      <td>123.50</td>\n",
              "      <td>0.0</td>\n",
              "    </tr>\n",
              "    <tr>\n",
              "      <th>4</th>\n",
              "      <td>2.0</td>\n",
              "      <td>-1.158233</td>\n",
              "      <td>0.877737</td>\n",
              "      <td>1.548718</td>\n",
              "      <td>0.403034</td>\n",
              "      <td>-0.407193</td>\n",
              "      <td>0.095921</td>\n",
              "      <td>0.592941</td>\n",
              "      <td>-0.270533</td>\n",
              "      <td>0.817739</td>\n",
              "      <td>0.753074</td>\n",
              "      <td>-0.822843</td>\n",
              "      <td>0.538196</td>\n",
              "      <td>1.345852</td>\n",
              "      <td>-1.119670</td>\n",
              "      <td>0.175121</td>\n",
              "      <td>-0.451449</td>\n",
              "      <td>-0.237033</td>\n",
              "      <td>-0.038195</td>\n",
              "      <td>0.803487</td>\n",
              "      <td>0.408542</td>\n",
              "      <td>-0.009431</td>\n",
              "      <td>0.798278</td>\n",
              "      <td>-0.137458</td>\n",
              "      <td>0.141267</td>\n",
              "      <td>-0.206010</td>\n",
              "      <td>0.502292</td>\n",
              "      <td>0.219422</td>\n",
              "      <td>0.215153</td>\n",
              "      <td>69.99</td>\n",
              "      <td>0.0</td>\n",
              "    </tr>\n",
              "  </tbody>\n",
              "</table>\n",
              "</div>"
            ],
            "text/plain": [
              "   Time        V1        V2        V3  ...       V27       V28  Amount  Class\n",
              "0   0.0 -1.359807 -0.072781  2.536347  ...  0.133558 -0.021053  149.62    0.0\n",
              "1   0.0  1.191857  0.266151  0.166480  ... -0.008983  0.014724    2.69    0.0\n",
              "2   1.0 -1.358354 -1.340163  1.773209  ... -0.055353 -0.059752  378.66    0.0\n",
              "3   1.0 -0.966272 -0.185226  1.792993  ...  0.062723  0.061458  123.50    0.0\n",
              "4   2.0 -1.158233  0.877737  1.548718  ...  0.219422  0.215153   69.99    0.0\n",
              "\n",
              "[5 rows x 31 columns]"
            ]
          },
          "metadata": {
            "tags": []
          },
          "execution_count": 26
        }
      ]
    },
    {
      "cell_type": "code",
      "metadata": {
        "colab": {
          "base_uri": "https://localhost:8080/",
          "height": 224
        },
        "id": "TF4nlCWYb4A-",
        "outputId": "b08b985a-98b2-4a6f-c970-76d1d4092cb7"
      },
      "source": [
        "#Last Five rows\n",
        "data.tail()"
      ],
      "execution_count": 27,
      "outputs": [
        {
          "output_type": "execute_result",
          "data": {
            "text/html": [
              "<div>\n",
              "<style scoped>\n",
              "    .dataframe tbody tr th:only-of-type {\n",
              "        vertical-align: middle;\n",
              "    }\n",
              "\n",
              "    .dataframe tbody tr th {\n",
              "        vertical-align: top;\n",
              "    }\n",
              "\n",
              "    .dataframe thead th {\n",
              "        text-align: right;\n",
              "    }\n",
              "</style>\n",
              "<table border=\"1\" class=\"dataframe\">\n",
              "  <thead>\n",
              "    <tr style=\"text-align: right;\">\n",
              "      <th></th>\n",
              "      <th>Time</th>\n",
              "      <th>V1</th>\n",
              "      <th>V2</th>\n",
              "      <th>V3</th>\n",
              "      <th>V4</th>\n",
              "      <th>V5</th>\n",
              "      <th>V6</th>\n",
              "      <th>V7</th>\n",
              "      <th>V8</th>\n",
              "      <th>V9</th>\n",
              "      <th>V10</th>\n",
              "      <th>V11</th>\n",
              "      <th>V12</th>\n",
              "      <th>V13</th>\n",
              "      <th>V14</th>\n",
              "      <th>V15</th>\n",
              "      <th>V16</th>\n",
              "      <th>V17</th>\n",
              "      <th>V18</th>\n",
              "      <th>V19</th>\n",
              "      <th>V20</th>\n",
              "      <th>V21</th>\n",
              "      <th>V22</th>\n",
              "      <th>V23</th>\n",
              "      <th>V24</th>\n",
              "      <th>V25</th>\n",
              "      <th>V26</th>\n",
              "      <th>V27</th>\n",
              "      <th>V28</th>\n",
              "      <th>Amount</th>\n",
              "      <th>Class</th>\n",
              "    </tr>\n",
              "  </thead>\n",
              "  <tbody>\n",
              "    <tr>\n",
              "      <th>267331</th>\n",
              "      <td>162725.0</td>\n",
              "      <td>-0.263226</td>\n",
              "      <td>1.082046</td>\n",
              "      <td>-0.369362</td>\n",
              "      <td>-0.713739</td>\n",
              "      <td>0.460032</td>\n",
              "      <td>-0.685490</td>\n",
              "      <td>0.646106</td>\n",
              "      <td>0.284417</td>\n",
              "      <td>-0.180510</td>\n",
              "      <td>-0.648379</td>\n",
              "      <td>-1.635504</td>\n",
              "      <td>0.131118</td>\n",
              "      <td>0.276313</td>\n",
              "      <td>0.375544</td>\n",
              "      <td>-0.352817</td>\n",
              "      <td>0.171224</td>\n",
              "      <td>-0.443409</td>\n",
              "      <td>-0.579266</td>\n",
              "      <td>0.101419</td>\n",
              "      <td>-0.114526</td>\n",
              "      <td>-0.254186</td>\n",
              "      <td>-0.681160</td>\n",
              "      <td>0.056685</td>\n",
              "      <td>-0.720388</td>\n",
              "      <td>-0.381639</td>\n",
              "      <td>0.188822</td>\n",
              "      <td>0.122842</td>\n",
              "      <td>0.027382</td>\n",
              "      <td>8.99</td>\n",
              "      <td>0.0</td>\n",
              "    </tr>\n",
              "    <tr>\n",
              "      <th>267332</th>\n",
              "      <td>162726.0</td>\n",
              "      <td>1.934012</td>\n",
              "      <td>-0.214230</td>\n",
              "      <td>-1.727386</td>\n",
              "      <td>-0.129121</td>\n",
              "      <td>1.120018</td>\n",
              "      <td>1.159995</td>\n",
              "      <td>-0.153808</td>\n",
              "      <td>0.306090</td>\n",
              "      <td>0.320286</td>\n",
              "      <td>0.030150</td>\n",
              "      <td>1.326783</td>\n",
              "      <td>1.152779</td>\n",
              "      <td>0.167861</td>\n",
              "      <td>0.704066</td>\n",
              "      <td>0.916965</td>\n",
              "      <td>-0.816365</td>\n",
              "      <td>-0.048060</td>\n",
              "      <td>-0.860067</td>\n",
              "      <td>-0.923047</td>\n",
              "      <td>-0.283394</td>\n",
              "      <td>0.352448</td>\n",
              "      <td>1.231819</td>\n",
              "      <td>0.061903</td>\n",
              "      <td>-0.688903</td>\n",
              "      <td>0.086206</td>\n",
              "      <td>-0.038679</td>\n",
              "      <td>0.025486</td>\n",
              "      <td>-0.077118</td>\n",
              "      <td>1.23</td>\n",
              "      <td>0.0</td>\n",
              "    </tr>\n",
              "    <tr>\n",
              "      <th>267333</th>\n",
              "      <td>162726.0</td>\n",
              "      <td>-0.230649</td>\n",
              "      <td>0.315261</td>\n",
              "      <td>-0.541387</td>\n",
              "      <td>-1.494509</td>\n",
              "      <td>3.321725</td>\n",
              "      <td>3.479110</td>\n",
              "      <td>0.470314</td>\n",
              "      <td>0.681980</td>\n",
              "      <td>-0.395329</td>\n",
              "      <td>-0.355487</td>\n",
              "      <td>-0.093495</td>\n",
              "      <td>-0.150251</td>\n",
              "      <td>-0.370865</td>\n",
              "      <td>0.257425</td>\n",
              "      <td>0.385039</td>\n",
              "      <td>-0.486631</td>\n",
              "      <td>-0.354466</td>\n",
              "      <td>-0.764742</td>\n",
              "      <td>0.439586</td>\n",
              "      <td>0.114883</td>\n",
              "      <td>-0.241149</td>\n",
              "      <td>-0.633826</td>\n",
              "      <td>-0.017286</td>\n",
              "      <td>0.704977</td>\n",
              "      <td>-0.474717</td>\n",
              "      <td>0.230399</td>\n",
              "      <td>-0.060045</td>\n",
              "      <td>-0.074326</td>\n",
              "      <td>1.98</td>\n",
              "      <td>0.0</td>\n",
              "    </tr>\n",
              "    <tr>\n",
              "      <th>267334</th>\n",
              "      <td>162728.0</td>\n",
              "      <td>1.957555</td>\n",
              "      <td>-0.629307</td>\n",
              "      <td>-0.635363</td>\n",
              "      <td>0.177278</td>\n",
              "      <td>-0.359772</td>\n",
              "      <td>0.307457</td>\n",
              "      <td>-0.744206</td>\n",
              "      <td>0.150395</td>\n",
              "      <td>1.090287</td>\n",
              "      <td>0.168022</td>\n",
              "      <td>-0.214193</td>\n",
              "      <td>0.651319</td>\n",
              "      <td>0.124613</td>\n",
              "      <td>-0.095184</td>\n",
              "      <td>-0.263046</td>\n",
              "      <td>0.818792</td>\n",
              "      <td>-1.094300</td>\n",
              "      <td>0.840794</td>\n",
              "      <td>0.396508</td>\n",
              "      <td>-0.094511</td>\n",
              "      <td>0.163200</td>\n",
              "      <td>0.591334</td>\n",
              "      <td>0.001014</td>\n",
              "      <td>-0.980263</td>\n",
              "      <td>-0.190775</td>\n",
              "      <td>0.609385</td>\n",
              "      <td>-0.030715</td>\n",
              "      <td>-0.062151</td>\n",
              "      <td>39.99</td>\n",
              "      <td>0.0</td>\n",
              "    </tr>\n",
              "    <tr>\n",
              "      <th>267335</th>\n",
              "      <td>162728.0</td>\n",
              "      <td>1.972115</td>\n",
              "      <td>-0.161916</td>\n",
              "      <td>-0.962841</td>\n",
              "      <td>0.102880</td>\n",
              "      <td>NaN</td>\n",
              "      <td>NaN</td>\n",
              "      <td>NaN</td>\n",
              "      <td>NaN</td>\n",
              "      <td>NaN</td>\n",
              "      <td>NaN</td>\n",
              "      <td>NaN</td>\n",
              "      <td>NaN</td>\n",
              "      <td>NaN</td>\n",
              "      <td>NaN</td>\n",
              "      <td>NaN</td>\n",
              "      <td>NaN</td>\n",
              "      <td>NaN</td>\n",
              "      <td>NaN</td>\n",
              "      <td>NaN</td>\n",
              "      <td>NaN</td>\n",
              "      <td>NaN</td>\n",
              "      <td>NaN</td>\n",
              "      <td>NaN</td>\n",
              "      <td>NaN</td>\n",
              "      <td>NaN</td>\n",
              "      <td>NaN</td>\n",
              "      <td>NaN</td>\n",
              "      <td>NaN</td>\n",
              "      <td>NaN</td>\n",
              "      <td>NaN</td>\n",
              "    </tr>\n",
              "  </tbody>\n",
              "</table>\n",
              "</div>"
            ],
            "text/plain": [
              "            Time        V1        V2  ...       V28  Amount  Class\n",
              "267331  162725.0 -0.263226  1.082046  ...  0.027382    8.99    0.0\n",
              "267332  162726.0  1.934012 -0.214230  ... -0.077118    1.23    0.0\n",
              "267333  162726.0 -0.230649  0.315261  ... -0.074326    1.98    0.0\n",
              "267334  162728.0  1.957555 -0.629307  ... -0.062151   39.99    0.0\n",
              "267335  162728.0  1.972115 -0.161916  ...       NaN     NaN    NaN\n",
              "\n",
              "[5 rows x 31 columns]"
            ]
          },
          "metadata": {
            "tags": []
          },
          "execution_count": 27
        }
      ]
    },
    {
      "cell_type": "code",
      "metadata": {
        "colab": {
          "base_uri": "https://localhost:8080/"
        },
        "id": "rkTIKCY_b9W2",
        "outputId": "33c0f6dd-3542-41a7-bba3-d218478dec13"
      },
      "source": [
        "data.info()\n"
      ],
      "execution_count": 28,
      "outputs": [
        {
          "output_type": "stream",
          "text": [
            "<class 'pandas.core.frame.DataFrame'>\n",
            "RangeIndex: 267336 entries, 0 to 267335\n",
            "Data columns (total 31 columns):\n",
            " #   Column  Non-Null Count   Dtype  \n",
            "---  ------  --------------   -----  \n",
            " 0   Time    267336 non-null  float64\n",
            " 1   V1      267336 non-null  float64\n",
            " 2   V2      267336 non-null  float64\n",
            " 3   V3      267336 non-null  float64\n",
            " 4   V4      267336 non-null  float64\n",
            " 5   V5      267335 non-null  float64\n",
            " 6   V6      267335 non-null  float64\n",
            " 7   V7      267335 non-null  float64\n",
            " 8   V8      267335 non-null  float64\n",
            " 9   V9      267335 non-null  float64\n",
            " 10  V10     267335 non-null  float64\n",
            " 11  V11     267335 non-null  float64\n",
            " 12  V12     267335 non-null  float64\n",
            " 13  V13     267335 non-null  float64\n",
            " 14  V14     267335 non-null  float64\n",
            " 15  V15     267335 non-null  float64\n",
            " 16  V16     267335 non-null  float64\n",
            " 17  V17     267335 non-null  float64\n",
            " 18  V18     267335 non-null  float64\n",
            " 19  V19     267335 non-null  float64\n",
            " 20  V20     267335 non-null  float64\n",
            " 21  V21     267335 non-null  float64\n",
            " 22  V22     267335 non-null  float64\n",
            " 23  V23     267335 non-null  float64\n",
            " 24  V24     267335 non-null  float64\n",
            " 25  V25     267335 non-null  float64\n",
            " 26  V26     267335 non-null  float64\n",
            " 27  V27     267335 non-null  float64\n",
            " 28  V28     267335 non-null  float64\n",
            " 29  Amount  267335 non-null  float64\n",
            " 30  Class   267335 non-null  float64\n",
            "dtypes: float64(31)\n",
            "memory usage: 63.2 MB\n"
          ],
          "name": "stdout"
        }
      ]
    },
    {
      "cell_type": "markdown",
      "metadata": {
        "id": "acR5ueqBcIhx"
      },
      "source": [
        "Data Analysis"
      ]
    },
    {
      "cell_type": "code",
      "metadata": {
        "id": "i8cjF8IvcQcA"
      },
      "source": [
        "# Get the Fraud and the normal dataset \n",
        "\n",
        "fraud_data = data[data['Class']==1]\n",
        "\n",
        "normal_data = data[data['Class']==0]"
      ],
      "execution_count": 29,
      "outputs": []
    },
    {
      "cell_type": "code",
      "metadata": {
        "colab": {
          "base_uri": "https://localhost:8080/"
        },
        "id": "z-6HeWVYceIf",
        "outputId": "924edd02-b31d-45d4-9bef-31e01c6964a1"
      },
      "source": [
        "print(fraud_data.shape,normal_data.shape)\n"
      ],
      "execution_count": 30,
      "outputs": [
        {
          "output_type": "stream",
          "text": [
            "(480, 31) (266855, 31)\n"
          ],
          "name": "stdout"
        }
      ]
    },
    {
      "cell_type": "code",
      "metadata": {
        "colab": {
          "base_uri": "https://localhost:8080/"
        },
        "id": "wGp9wP-Hcim5",
        "outputId": "af2e3661-893e-4b36-a835-32e2a2724d98"
      },
      "source": [
        "fraud_data.Amount.describe()"
      ],
      "execution_count": 31,
      "outputs": [
        {
          "output_type": "execute_result",
          "data": {
            "text/plain": [
              "count     480.000000\n",
              "mean      121.408896\n",
              "std       257.964187\n",
              "min         0.000000\n",
              "25%         1.000000\n",
              "50%         8.590000\n",
              "75%       105.080000\n",
              "max      2125.870000\n",
              "Name: Amount, dtype: float64"
            ]
          },
          "metadata": {
            "tags": []
          },
          "execution_count": 31
        }
      ]
    },
    {
      "cell_type": "code",
      "metadata": {
        "colab": {
          "base_uri": "https://localhost:8080/"
        },
        "id": "kitCBH80cs_O",
        "outputId": "a905c5d5-7bf2-471e-c589-22a94dffe0a2"
      },
      "source": [
        "normal_data.Amount.describe()\n"
      ],
      "execution_count": 32,
      "outputs": [
        {
          "output_type": "execute_result",
          "data": {
            "text/plain": [
              "count    266855.000000\n",
              "mean         89.583518\n",
              "std         248.365742\n",
              "min           0.000000\n",
              "25%           5.990000\n",
              "50%          22.720000\n",
              "75%          79.000000\n",
              "max       19656.530000\n",
              "Name: Amount, dtype: float64"
            ]
          },
          "metadata": {
            "tags": []
          },
          "execution_count": 32
        }
      ]
    },
    {
      "cell_type": "markdown",
      "metadata": {
        "id": "GuAyZFYtiGJS"
      },
      "source": [
        "Train and test data"
      ]
    },
    {
      "cell_type": "code",
      "metadata": {
        "colab": {
          "base_uri": "https://localhost:8080/"
        },
        "id": "1axyaOQHduaM",
        "outputId": "912b997e-6aa2-4e55-c153-f102802087b4"
      },
      "source": [
        "# Take some sample of the data\n",
        "data_sample= data.sample(frac = 0.1,random_state=1)\n",
        "data_sample.shape"
      ],
      "execution_count": 33,
      "outputs": [
        {
          "output_type": "execute_result",
          "data": {
            "text/plain": [
              "(26734, 31)"
            ]
          },
          "metadata": {
            "tags": []
          },
          "execution_count": 33
        }
      ]
    },
    {
      "cell_type": "code",
      "metadata": {
        "colab": {
          "base_uri": "https://localhost:8080/"
        },
        "id": "TLhNVrLBd4dY",
        "outputId": "98b9d7c2-3728-41f1-c033-5f1cf8c34919"
      },
      "source": [
        "data.shape"
      ],
      "execution_count": 34,
      "outputs": [
        {
          "output_type": "execute_result",
          "data": {
            "text/plain": [
              "(267336, 31)"
            ]
          },
          "metadata": {
            "tags": []
          },
          "execution_count": 34
        }
      ]
    },
    {
      "cell_type": "code",
      "metadata": {
        "colab": {
          "base_uri": "https://localhost:8080/"
        },
        "id": "5c_QLdCJd9XQ",
        "outputId": "4a0880a9-2583-41a6-bf25-d7921d8791b5"
      },
      "source": [
        "#Determine the number of fraud and valid transactions in the dataset\n",
        "\n",
        "Fraud = data_sample[data_sample['Class']==1]\n",
        "Valid = data_sample[data_sample['Class']==0]\n",
        "\n",
        "outlier_fraction = len(Fraud)/float(len(Valid))\n",
        "print(outlier_fraction)\n",
        "\n",
        "print(\"Fraud Cases : {}\".format(len(Fraud)))\n",
        "print(\"Valid Cases : {}\".format(len(Valid)))"
      ],
      "execution_count": 35,
      "outputs": [
        {
          "output_type": "stream",
          "text": [
            "0.0016485575121768454\n",
            "Fraud Cases : 44\n",
            "Valid Cases : 26690\n"
          ],
          "name": "stdout"
        }
      ]
    },
    {
      "cell_type": "markdown",
      "metadata": {
        "id": "vkd4bTe0hpGb"
      },
      "source": [
        "ML MODEL"
      ]
    },
    {
      "cell_type": "code",
      "metadata": {
        "colab": {
          "base_uri": "https://localhost:8080/"
        },
        "id": "7YiTOOtkeGBY",
        "outputId": "6c69f038-c090-4911-e316-20f7307ad9d2"
      },
      "source": [
        "#Create independent and Dependent Features\n",
        "columns = data_sample.columns.tolist()\n",
        "# Filter the columns to remove data we do not want \n",
        "columns = [c for c in columns if c not in [\"Class\"]]\n",
        "# Store the variable we are predicting \n",
        "target = \"Class\"\n",
        "# Define a random state \n",
        "state = np.random.RandomState(42)\n",
        "X = data_sample[columns]\n",
        "Y = data_sample[target]\n",
        "X_outliers = state.uniform(low=0, high=1, size=(X.shape[0], X.shape[1]))\n",
        "# Print the shapes of X & Y\n",
        "print(X.shape)\n",
        "print(Y.shape)"
      ],
      "execution_count": 36,
      "outputs": [
        {
          "output_type": "stream",
          "text": [
            "(26734, 30)\n",
            "(26734,)\n"
          ],
          "name": "stdout"
        }
      ]
    },
    {
      "cell_type": "code",
      "metadata": {
        "id": "cjWOJp-neqMM"
      },
      "source": [
        "#Define the outlier detection methods\n",
        "\n",
        "classifiers = {\n",
        "    \"Isolation Forest\":IsolationForest(n_estimators=100, max_samples=len(X), \n",
        "                                       contamination=outlier_fraction,random_state=state, verbose=0),\n",
        "    \"Local Outlier Factor\":LocalOutlierFactor(n_neighbors=20, algorithm='auto', \n",
        "                                              leaf_size=30, metric='minkowski',\n",
        "                                              p=2, metric_params=None, contamination=outlier_fraction)\n",
        "}"
      ],
      "execution_count": 37,
      "outputs": []
    },
    {
      "cell_type": "code",
      "metadata": {
        "colab": {
          "base_uri": "https://localhost:8080/"
        },
        "id": "E6hDXwypezYZ",
        "outputId": "28c7eb6c-e194-4254-cc9b-a1dc0008025d"
      },
      "source": [
        "n_outliers = len(Fraud)\n",
        "for i, (clf_name,clf) in enumerate(classifiers.items()):\n",
        "    #Fit the data and tag outliers\n",
        "    if clf_name == \"Local Outlier Factor\":\n",
        "        y_pred = clf.fit_predict(X)\n",
        "        scores_prediction = clf.negative_outlier_factor_\n",
        "    else:    \n",
        "        clf.fit(X)\n",
        "        scores_prediction = clf.decision_function(X)\n",
        "        y_pred = clf.predict(X)\n",
        "    #Reshape the prediction values to 0 for Valid transactions , 1 for Fraud transactions\n",
        "    y_pred[y_pred == 1] = 0\n",
        "    y_pred[y_pred == -1] = 1\n",
        "    n_errors = (y_pred != Y).sum()\n",
        "    # Run Classification Metrics\n",
        "    print(\"{}: {}\".format(clf_name,n_errors))\n",
        "    print(\"Accuracy Score :\")\n",
        "    print(accuracy_score(Y,y_pred))\n",
        "    print(\"Classification Report :\")\n",
        "    print(classification_report(Y,y_pred))"
      ],
      "execution_count": 38,
      "outputs": [
        {
          "output_type": "stream",
          "text": [
            "Isolation Forest: 63\n",
            "Accuracy Score :\n",
            "0.9976434502880227\n",
            "Classification Report :\n",
            "              precision    recall  f1-score   support\n",
            "\n",
            "         0.0       1.00      1.00      1.00     26690\n",
            "         1.0       0.29      0.30      0.29        44\n",
            "\n",
            "    accuracy                           1.00     26734\n",
            "   macro avg       0.64      0.65      0.65     26734\n",
            "weighted avg       1.00      1.00      1.00     26734\n",
            "\n",
            "Local Outlier Factor: 89\n",
            "Accuracy Score :\n",
            "0.9966709059624448\n",
            "Classification Report :\n",
            "              precision    recall  f1-score   support\n",
            "\n",
            "         0.0       1.00      1.00      1.00     26690\n",
            "         1.0       0.00      0.00      0.00        44\n",
            "\n",
            "    accuracy                           1.00     26734\n",
            "   macro avg       0.50      0.50      0.50     26734\n",
            "weighted avg       1.00      1.00      1.00     26734\n",
            "\n"
          ],
          "name": "stdout"
        }
      ]
    }
  ]
}